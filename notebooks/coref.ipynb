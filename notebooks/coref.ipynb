{
 "cells": [
  {
   "cell_type": "code",
   "execution_count": 3,
   "metadata": {},
   "outputs": [
    {
     "name": "stderr",
     "output_type": "stream",
     "text": [
      "02/04/2024 21:11:58 - INFO - \t missing_keys: []\n",
      "02/04/2024 21:11:58 - INFO - \t unexpected_keys: []\n",
      "02/04/2024 21:11:58 - INFO - \t mismatched_keys: []\n",
      "02/04/2024 21:11:58 - INFO - \t error_msgs: []\n",
      "02/04/2024 21:11:58 - INFO - \t Model Parameters: 590.0M, Transformer: 434.6M, Coref head: 155.4M\n",
      "02/04/2024 21:11:58 - INFO - \t Tokenize 1 inputs...\n"
     ]
    },
    {
     "data": {
      "application/vnd.jupyter.widget-view+json": {
       "model_id": "95105f89dc3841de954805e49b88035e",
       "version_major": 2,
       "version_minor": 0
      },
      "text/plain": [
       "Map:   0%|          | 0/1 [00:00<?, ? examples/s]"
      ]
     },
     "metadata": {},
     "output_type": "display_data"
    },
    {
     "name": "stderr",
     "output_type": "stream",
     "text": [
      "02/04/2024 21:11:58 - INFO - \t ***** Running Inference on 1 texts *****\n"
     ]
    },
    {
     "data": {
      "application/vnd.jupyter.widget-view+json": {
       "model_id": "994d8003220843528b3bf1d5be9580ae",
       "version_major": 2,
       "version_minor": 0
      },
      "text/plain": [
       "Inference:   0%|          | 0/1 [00:00<?, ?it/s]"
      ]
     },
     "metadata": {},
     "output_type": "display_data"
    },
    {
     "data": {
      "text/plain": [
       "[[(0, 5), (39, 42), (79, 82)]]"
      ]
     },
     "execution_count": 3,
     "metadata": {},
     "output_type": "execute_result"
    }
   ],
   "source": [
    "from fastcoref import spacy_component\n",
    "import spacy\n",
    "\n",
    "\n",
    "text = 'Alice goes down the rabbit hole. Where she would discover a new reality beyond her expectations.'\n",
    "\n",
    "nlp = spacy.load(\"en_core_web_sm\")\n",
    "nlp.add_pipe(\n",
    "   \"fastcoref\", \n",
    "   config={'model_architecture': 'LingMessCoref', 'model_path': 'biu-nlp/lingmess-coref', 'device': 'cuda'}\n",
    ")\n",
    "\n",
    "doc = nlp(text)\n",
    "doc._.coref_clusters"
   ]
  },
  {
   "cell_type": "code",
   "execution_count": 4,
   "metadata": {},
   "outputs": [],
   "source": [
    "text = '''SINGAPORE: Former UOB chairman and CEO Wee Cho Yaw was a \"titan of Singapore's banking industry\", said Prime Minister Lee Hsien Loong on Sunday (Feb 4), as he led the tributes to the late businessman.\n",
    "\n",
    "Mr Wee died at the age of 95, Singapore bank UOB announced on Saturday. He helmed the bank for more than 60 years before retiring from the board in 2018.\n",
    "\n",
    "ADVERTISEMENT\n",
    "\n",
    "Mr Lee said he was deeply saddened by Mr Wee's death and sent his condolences to his family.\n",
    "\n",
    "\"His business acumen and visionary leadership were instrumental in growing UOB into one of the most successful banks in Singapore and the region,\" said the Prime Minister.\n",
    "\n",
    "\"I have known Cho Yaw personally for four decades. When I was chairman of the Monetary Authority of Singapore, overseeing major changes to the financial sector, I worked closely with him, and greatly valued his perspectives and advice,\" he added.\n",
    "\n",
    "\"I will always warmly remember his passion and energy, and our many conversations across a wide range of issues over the years.\"\n",
    "\n",
    "He also remembered Mr Wee's \"significant contributions\" to the community, including being actively involved in the promotion of the Chinese language, culture and values.\n",
    "\n",
    "ADVERTISEMENT\n",
    "\n",
    "Mr Wee took on key leadership roles within the community, which continues to benefit from the Wee Foundation. It was set up in 2009 to promote the Chinese language and culture in Singapore, as well as provide education and welfare assistance to those in need.\n",
    "\n",
    "The Prime Minister also paid tribute to Mr Wee's contributions in the education sector.\n",
    "\n",
    "\n",
    "Mr Wee Cho Yaw with Prime Minister Lee Hsien Loong at UOB's 80th anniversary celebration on Nov 12, 2015. (Photo: MCI/Fyrol)\n",
    "\"TRANSFORMATIVE LEADERSHIP\": DPM WONG\n",
    "President Tharman Shanmugaratnam described Mr Wee as “simply unique”.\n",
    "\n",
    "Mr Tharman, a former Monetary Authority of Singapore (MAS) chairman, said the former banking tycoon had an “insatiable appetite for work and a shrewd eye for opportunities” that was unmatched in local banking.\n",
    "\n",
    "“He was also committed to his staff. It made UOB a leading bank in the region, and helped build up our financial centre,” the President added. \n",
    "\n",
    "ADVERTISEMENT\n",
    "\n",
    "Under Mr Wee's leadership, the bank grew from one branch to a regional bank in 19 countries and territories. UOB is Singapore's third-largest bank by market cap. \n",
    "\n",
    "\n",
    "President Tharman Shanmugaratnam at the wake of former UOB chairman Wee Cho Yaw on Feb 4, 2024. (Photo: UOB)\n",
    "Deputy Prime Minister Lawrence Wong said Mr Wee’s “transformative leadership” made UOB a regional banking powerhouse.\n",
    "\n",
    "“His vision and ethical standards set a lasting industry benchmark, and his contributions to our financial centre and much more, will be remembered,” said Mr Wong, who is also Finance Minister and the current MAS chairman.\n",
    "\n",
    "Deputy Prime Minister Heng Swee Keat wrote in a Facebook post that he “always admired and learnt” from Mr Wee’s drive and business acumen, as well as his commitment to serving the community.\n",
    "\n",
    "Mr Wee served as president of the Singapore Chinese Chamber of Commerce and Industry, and was the founding president of the Singapore Federation of Chinese Clan Associations.\n",
    "\n",
    "ADVERTISEMENT\n",
    "\n",
    "“Mr Wee led by example as a committed philanthropist who contributed to numerous charitable causes,” said Mr Heng.\n",
    "\n",
    "\n",
    "Mr Wee Cho Yaw at a Nanyang Technological University event. (Photo: Facebook/NTU)\n",
    "\"PASSIONATE ABOUT EDUCATION\"\n",
    "Mr Wee served on the council of the National University of Singapore (NUS). In 2004, he was appointed the pro-chancellor of Nanyang Technological University (NTU). Both universities conferred honorary doctor of letters on Mr Wee for his contributions.\n",
    "\n",
    "The Prime Minister said Mr Wee was \"passionate about education\".\n",
    "\n",
    "\"As chairman of the Nanyang University Council, he oversaw the difficult process of merging Nanyang University with the University of Singapore to form NUS, thereafter serving on the NUS Council till 2000,\" said Mr Lee.\n",
    "\n",
    "When Mr Wee became pro-chancellor of NTU, he established a scholarship fund to support pursuing postgraduate finance degrees at Nanyang Business School.\n",
    "\n",
    "The UOB Wee Cho Yaw Future Leaders Award, launched in 2015 to assist less privileged students studying at NTU and NUS, is a \"fitting tribute\" to Mr Wee's service and leadership, added Mr Lee.\n",
    "\n",
    "Mr Wee made “significant contributions” to the education sector, uplifting many students from all walks of life, said Education Minister Chan Chun Sing.\n",
    "\n",
    "“Mr Wee was known both for his business acumen and for giving back to society,” he wrote in a Facebook post.\n",
    "\n",
    "“Over the years, he contributed to our schools and various education initiatives, including Hokkien Huay Kuan affiliated schools, the Nanyang Junior College Zhong Zheng Ren Scholarship, and the Wee Cho Yaw Future Leaders Award scholarship programme.\n",
    "\n",
    "“UOB and the Wee family also made donations to the Lee Kuan Yew Centennial Fund, which aims to develop young leaders and support underprivileged students in Singapore.”\n",
    "\n",
    "NTU president Ho Teck Hua described Mr Wee as a “great advocate of education, philanthropy and community service”.\n",
    "\n",
    "He said the banker, together with Wee Foundation and UOB, have gifted S$16 million (US$11.9 million) to the university over the years. This was in support of education and research development, financial assistance to students from disadvantaged backgrounds, as well as grooming future leaders.\n",
    "\n",
    "“Those who have had the opportunity to interact with him remember him as a generous man who was always willing to hear out young people and give them his advice,” said Professor Ho.\n",
    "\n",
    "\n",
    "Mr Wee Cho Yaw was Nanyang Technological University's pro-chancellor. (Photo: Facebook/NTU)\n",
    "Mr Wee was also the school management committee chairman of Chung Cheng High School. In a Facebook post, the school said Mr Wee “dedicated his life to the betterment of education”.\n",
    "\n",
    "“Apart from generously giving in the areas of upgrading the school’s learning facilities and resources to enhance holistic development in our students, he also cared deeply about the well-being and professional growth of our staff,” said the school.\n",
    "\n",
    "Born in Kinmen in 1930, Mr Wee moved to Singapore as a child amid the Sino-Japanese war.\n",
    "\n",
    "At the age of 28, he became the youngest director on the board of United Chinese Bank which his father Wee Kheng Chiang co-founded in 1935. It was later renamed United Overseas Bank.\n",
    "\n",
    "After retiring from the board in 2018, he had stayed on as its chairman emeritus and honorary adviser.\n",
    "\n",
    "One of Singapore's wealthiest men, the banking veteran consistently appeared on Forbes' rich list. \n",
    "\n",
    "In 2023, he was eighth on the Forbes list of Singapore's 50th richest people, with a net worth of US$7.1 billion. He was Singapore's richest man in 2011, with a fortune of US$4.2 billion.\n",
    "\n",
    "Mr Wee has five children. His eldest son, Wee Ee Cheong, is the current deputy chairman and CEO of UOB. '''"
   ]
  },
  {
   "cell_type": "code",
   "execution_count": 8,
   "metadata": {},
   "outputs": [
    {
     "name": "stderr",
     "output_type": "stream",
     "text": [
      "02/04/2024 21:14:49 - INFO - \t Tokenize 1 inputs...\n"
     ]
    },
    {
     "data": {
      "application/vnd.jupyter.widget-view+json": {
       "model_id": "4664c7dcd4e148b2b74e7248655383eb",
       "version_major": 2,
       "version_minor": 0
      },
      "text/plain": [
       "Map:   0%|          | 0/1 [00:00<?, ? examples/s]"
      ]
     },
     "metadata": {},
     "output_type": "display_data"
    },
    {
     "name": "stderr",
     "output_type": "stream",
     "text": [
      "02/04/2024 21:14:49 - INFO - \t ***** Running Inference on 1 texts *****\n"
     ]
    },
    {
     "data": {
      "application/vnd.jupyter.widget-view+json": {
       "model_id": "26b3a950e3f345f7839edde7bc80d9e7",
       "version_major": 2,
       "version_minor": 0
      },
      "text/plain": [
       "Inference:   0%|          | 0/1 [00:00<?, ?it/s]"
      ]
     },
     "metadata": {},
     "output_type": "display_data"
    },
    {
     "data": {
      "text/plain": [
       "'SINGAPORE: Former UOB chairman and CEO Wee Cho Yaw was a \"titan of Singapore\\'s\\'s banking industry\", said Prime Minister Lee Hsien Loong on Sunday (Feb 4), as Prime Minister Lee Hsien Loong led the tributes to Former UOB chairman and CEO Wee Cho Yaw.\\n\\nFormer UOB chairman and CEO Wee Cho Yaw Mr Wee\\'s death at the age of 95, UOB announced on Saturday. Former UOB chairman and CEO Wee Cho Yaw helmed UOB for more than 60 years before retiring from the board in 2018.\\n\\nADVERTISEMENT\\n\\nPrime Minister Lee Hsien Loong said Prime Minister Lee Hsien Loong was deeply saddened by Former UOB chairman and CEO Wee Cho Yaw\\'s death and sent Prime Minister Lee Hsien Loong\\'s condolences to Former UOB chairman and CEO Wee Cho Yaw\\'s family.\\n\\n\"Former UOB chairman and CEO Wee Cho Yaw\\'s business acumen and visionary leadership were instrumental in growing UOB into one of the most successful banks in Singapore\\'s and the region,\" said Prime Minister Lee Hsien Loong.\\n\\n\"Prime Minister Lee Hsien Loong have known Former UOB chairman and CEO Wee Cho Yaw personally for four decades. When Prime Minister Lee Hsien Loong was chairman of the Monetary Authority of Singapore, overseeing major changes to the financial sector, Prime Minister Lee Hsien Loong worked closely with Former UOB chairman and CEO Wee Cho Yaw, and greatly valued Former UOB chairman and CEO Wee Cho Yaw\\'s perspectives and advice,\" Prime Minister Lee Hsien Loong added.\\n\\n\"Prime Minister Lee Hsien Loong will always warmly remember Former UOB chairman and CEO Wee Cho Yaw\\'s passion and energy, and our many conversations across a wide range of issues over the years.\"\\n\\nPrime Minister Lee Hsien Loong also remembered Former UOB chairman and CEO Wee Cho Yaw\\'s \"significant contributions\" to the community, including being actively involved in the promotion of the Chinese language, culture and values.\\n\\nADVERTISEMENT\\n\\nFormer UOB chairman and CEO Wee Cho Yaw took on key leadership roles within the community, which continues to benefit from the Wee Foundation. the Wee Foundation was set up in 2009 to promote the Chinese language and culture in Singapore\\'s, as well as provide education and welfare assistance to those in need.\\n\\nPrime Minister Lee Hsien Loong also paid tribute to Former UOB chairman and CEO Wee Cho Yaw\\'s contributions in the education sector.\\n\\n\\nFormer UOB chairman and CEO Wee Cho Yaw with Prime Minister Lee Hsien Loong at UOB\\'s 80th anniversary celebration on Nov 12, 2015. (Photo: MCI/Fyrol)\\n\"TRANSFORMATIVE LEADERSHIP\": DPM WONG\\nPresident Tharman Shanmugaratnam described Former UOB chairman and CEO Wee Cho Yaw as “simply unique”.\\n\\nPresident Tharman Shanmugaratnam said Former UOB chairman and CEO Wee Cho Yaw had an “insatiable appetite for work and a shrewd eye for opportunities” that was unmatched in local banking.\\n\\n“Former UOB chairman and CEO Wee Cho Yaw was also committed to Former UOB chairman and CEO Wee Cho Yaw\\'s staff. It made UOB a leading bank in the region, and helped build up UOB\\'s financial centre,” President Tharman Shanmugaratnam added. \\n\\nADVERTISEMENT\\n\\nUnder Former UOB chairman and CEO Wee Cho Yaw\\'s leadership, UOB grew from one branch to a regional bank in 19 countries and territories. UOB is Singapore\\'s\\'s third-largest bank by market cap. President Tharman Shanmugaratnam at the wake of former UOB chairman Wee Cho Yaw on Feb 4, 2024. (Photo: UOB)\\nDeputy Prime Minister Lawrence Wong said Former UOB chairman and CEO Wee Cho Yaw\\'s “transformative leadership” made UOB a regional banking powerhouse.\\n\\n“Former UOB chairman and CEO Wee Cho Yaw\\'s vision and ethical standards set a lasting industry benchmark, and Former UOB chairman and CEO Wee Cho Yaw\\'s contributions to UOB\\'s financial centre and much more, will be remembered,” said Deputy Prime Minister Lawrence Wong.\\n\\nDeputy Prime Minister Heng Swee Keat wrote in a Facebook post that Deputy Prime Minister Heng Swee Keat “always admired and learnt” from Former UOB chairman and CEO Wee Cho Yaw\\'s drive and business acumen, as well as Former UOB chairman and CEO Wee Cho Yaw\\'s commitment to serving the community.\\n\\nFormer UOB chairman and CEO Wee Cho Yaw served as president of the Singapore Chinese Chamber of Commerce and Industry, and was the founding president of the Singapore Federation of Chinese Clan Associations.\\n\\nADVERTISEMENT\\n\\n“Former UOB chairman and CEO Wee Cho Yaw led by example as a committed philanthropist who contributed to numerous charitable causes,” said Deputy Prime Minister Heng Swee Keat.\\n\\n\\nMr Wee Cho Yaw at a Nanyang Technological University event. (Photo: Facebook/Nanyang Technological University)\\n\"PASSIONATE ABOUT EDUCATION\"\\nFormer UOB chairman and CEO Wee Cho Yaw served on the council of the National University of Singapore (NUS). In 2004, Former UOB chairman and CEO Wee Cho Yaw was appointed the pro-chancellor of Nanyang Technological University. Both universities conferred honorary doctor of letters on Former UOB chairman and CEO Wee Cho Yaw for Former UOB chairman and CEO Wee Cho Yaw\\'s contributions.\\n\\nPrime Minister Lee Hsien Loong said Former UOB chairman and CEO Wee Cho Yaw was \"passionate about education\".\\n\\n\"As chairman of the Nanyang University Council, Former UOB chairman and CEO Wee Cho Yaw oversaw the difficult process of merging Nanyang University with the University of Singapore to form the National University of Singapore (NUS), thereafter serving on the the National University of Singapore (NUS) Council till 2000,\" said Prime Minister Lee Hsien Loong.\\n\\nWhen Former UOB chairman and CEO Wee Cho Yaw became pro-chancellor of Nanyang Technological University, Former UOB chairman and CEO Wee Cho Yaw established a scholarship fund to support pursuing postgraduate finance degrees at Nanyang Business School.\\n\\nThe UOB Wee Cho Yaw Future Leaders Award, launched in 2015 to assist less privileged students studying at Nanyang Technological University and the National University of Singapore (NUS), is a \"fitting tribute\" to Former UOB chairman and CEO Wee Cho Yaw\\'s service and leadership, added Prime Minister Lee Hsien Loong.\\n\\nFormer UOB chairman and CEO Wee Cho Yaw made “significant contributions” to the education sector, uplifting many students from all walks of life, said Education Minister Chan Chun Sing.\\n\\n“Former UOB chairman and CEO Wee Cho Yaw was known both for Former UOB chairman and CEO Wee Cho Yaw\\'s business acumen and for giving back to society,” Education Minister Chan Chun Sing wrote in a Facebook post.\\n\\n“Over the years, Former UOB chairman and CEO Wee Cho Yaw contributed to our schools and various education initiatives, including Hokkien Huay Kuan affiliated schools, the Nanyang Junior College Zhong Zheng Ren Scholarship, and The UOB Wee Cho Yaw Future Leaders Award, launched in 2015 to assist less privileged students studying at NTU and NUS,.\\n\\n“UOB and the Wee family also made donations to the Lee Kuan Yew Centennial Fund, which aims to develop young leaders and support underprivileged students in Singapore\\'s.”\\n\\nNanyang Technological University president Ho Teck Hua described Former UOB chairman and CEO Wee Cho Yaw as a “great advocate of education, philanthropy and community service”.\\n\\nDeputy Prime Minister Heng Swee Keat said Former UOB chairman and CEO Wee Cho Yaw, together with Wee Foundation and UOB, have gifted S$16 million (US$11.9 million) to Nanyang Technological University over the years. This was in support of education and research development, financial assistance to students from disadvantaged backgrounds, as well as grooming future leaders.\\n\\n“Those who have had the opportunity to interact with Former UOB chairman and CEO Wee Cho Yaw remember Former UOB chairman and CEO Wee Cho Yaw as a generous man who was always willing to hear out young people and give young people Former UOB chairman and CEO Wee Cho Yaw\\'s advice,” said Deputy Prime Minister Heng Swee Keat.\\n\\n\\nFormer UOB chairman and CEO Wee Cho Yaw was Nanyang Technological University\\'s pro-chancellor. (Photo: Facebook/Nanyang Technological University)\\nFormer UOB chairman and CEO Wee Cho Yaw was also the school management committee chairman of Chung Cheng High School. In a Facebook post, Chung Cheng High School said Former UOB chairman and CEO Wee Cho Yaw “dedicated Former UOB chairman and CEO Wee Cho Yaw\\'s life to the betterment of education”.\\n\\n“Apart from generously giving in the areas of upgrading Chung Cheng High School\\'s learning facilities and resources to enhance holistic development in Chung Cheng High School\\'s students, Former UOB chairman and CEO Wee Cho Yaw also cared deeply about the well-being and professional growth of Chung Cheng High School\\'s staff,” said Chung Cheng High School.\\n\\nBorn in Kinmen in 1930, Former UOB chairman and CEO Wee Cho Yaw moved to Singapore\\'s as a child amid the Sino-Japanese war.\\n\\nAt the age of 28, Former UOB chairman and CEO Wee Cho Yaw became the youngest director on the board of United Chinese Bank which Former UOB chairman and CEO Wee Cho Yaw\\'s father Wee Kheng Chiang co-founded in 1935. United Chinese Bank which his father Wee Kheng Chiang co-founded in 1935 was later renamed United Overseas Bank.\\n\\nAfter retiring from the board of United Chinese Bank which his father Wee Kheng Chiang co-founded in 1935 in 2018, Former UOB chairman and CEO Wee Cho Yaw had stayed on as the board of United Chinese Bank which his father Wee Kheng Chiang co-founded in 1935\\'s chairman emeritus and honorary adviser.\\n\\nOne of Singapore\\'s\\'s wealthiest men, Former UOB chairman and CEO Wee Cho Yaw consistently appeared on Forbes\\'\\'s rich list. \\n\\nIn 2023, Former UOB chairman and CEO Wee Cho Yaw was eighth on the Forbes\\' list of Singapore\\'s\\'s 50th richest people, with a net worth of US$7.1 billion. Former UOB chairman and CEO Wee Cho Yaw was Singapore\\'s\\'s richest man in 2011, with a fortune of US$4.2 billion.\\n\\nFormer UOB chairman and CEO Wee Cho Yaw has five children. Former UOB chairman and CEO Wee Cho Yaw\\'s eldest son, Wee Ee Cheong, is the current deputy chairman and CEO of UOB. '"
      ]
     },
     "execution_count": 8,
     "metadata": {},
     "output_type": "execute_result"
    }
   ],
   "source": [
    "doc = nlp(text, component_cfg={'fastcoref':{'resolve_text': True}})\n",
    "doc._.resolved_text"
   ]
  },
  {
   "cell_type": "code",
   "execution_count": 10,
   "metadata": {},
   "outputs": [
    {
     "name": "stderr",
     "output_type": "stream",
     "text": [
      "02/04/2024 21:51:42 - INFO - \t missing_keys: []\n",
      "02/04/2024 21:51:42 - INFO - \t unexpected_keys: []\n",
      "02/04/2024 21:51:42 - INFO - \t mismatched_keys: []\n",
      "02/04/2024 21:51:42 - INFO - \t error_msgs: []\n",
      "02/04/2024 21:51:42 - INFO - \t Model Parameters: 590.0M, Transformer: 434.6M, Coref head: 155.4M\n",
      "02/04/2024 21:51:42 - INFO - \t Tokenize 2 inputs...\n"
     ]
    },
    {
     "data": {
      "application/vnd.jupyter.widget-view+json": {
       "model_id": "03f22aa695a342c38116ba74e5ce61d3",
       "version_major": 2,
       "version_minor": 0
      },
      "text/plain": [
       "Map:   0%|          | 0/2 [00:00<?, ? examples/s]"
      ]
     },
     "metadata": {},
     "output_type": "display_data"
    },
    {
     "name": "stderr",
     "output_type": "stream",
     "text": [
      "02/04/2024 21:51:42 - INFO - \t ***** Running Inference on 2 texts *****\n"
     ]
    },
    {
     "data": {
      "application/vnd.jupyter.widget-view+json": {
       "model_id": "a66bad2eae84429290f91fd1d4a08ae4",
       "version_major": 2,
       "version_minor": 0
      },
      "text/plain": [
       "Inference:   0%|          | 0/2 [00:00<?, ?it/s]"
      ]
     },
     "metadata": {},
     "output_type": "display_data"
    },
    {
     "data": {
      "text/plain": [
       "[CorefResult(text=\"SINGAPORE: Former UOB chairman and CEO Wee Cho Yaw...\", clusters=[['Prime Minister Lee Hsien Loong', 'he', 'Mr Lee', 'he', 'his', 'the Prime Minister', 'I', 'I', 'I', 'he', 'I', 'He', 'The Prime Minister', 'Prime Minister Lee Hsien Loong', 'The Prime Minister', 'Mr Lee', 'Mr Lee'], ['Former UOB chairman and CEO Wee Cho Yaw', 'the late businessman', 'Mr Wee', 'He', \"Mr Wee's\", 'his', 'His', 'Cho Yaw', 'him', 'his', 'his', \"Mr Wee's\", 'Mr Wee', \"Mr Wee's\", 'Mr Wee Cho Yaw', 'Mr Wee', 'the former banking tycoon', 'He', 'his', \"Mr Wee's\", 'former UOB chairman Wee Cho Yaw', 'Mr Wee’s', 'His', 'his', 'Mr Wee’s', 'his', 'Mr Wee', 'Mr Wee', 'Mr Wee', 'he', 'Mr Wee', 'his', 'Mr Wee', 'he', 'Mr Wee', 'he', \"Mr Wee's\", 'Mr Wee', 'Mr Wee', 'his', 'he', 'Mr Wee', 'the banker', 'him', 'him', 'his', 'Mr Wee Cho Yaw', 'Mr Wee', 'Mr Wee', 'his', 'he', 'Mr Wee', 'he', 'his', 'he', \"One of Singapore's wealthiest men\", 'the banking veteran', 'he', 'He', 'Mr Wee', 'His'], ['UOB', 'Singapore bank UOB', 'the bank', 'UOB', \"UOB's\", 'UOB', 'our', 'the bank', 'UOB', 'UOB', 'UOB', 'UOB)\\nDeputy Prime Minister Lawrence Wong said Mr Wee’s “transformative leadership” made UOB', 'UOB', 'our', 'UOB', 'UOB', 'UOB', 'UOB'], ['died', \"Mr Wee's death\"], [\"Singapore's\", 'Singapore', 'Singapore', \"Singapore's\", 'Singapore', 'Singapore', \"Singapore's\", \"Singapore's\", \"Singapore's\"], ['the Wee Foundation', 'It'], ['President Tharman Shanmugaratnam', 'Mr Tharman, a former Monetary Authority of Singapore (MAS) chairman,', 'the President', '\\n\\n\\nPresident Tharman Shanmugaratnam'], ['our financial centre', 'our financial centre'], ['Deputy Prime Minister Lawrence Wong', 'Mr Wong, who is also Finance Minister and the current MAS chairman', 'Mr Wong, who is also Finance Minister and the current MAS chairman.\\n\\nDeputy Prime Minister Heng Swee Keat'], ['Deputy Prime Minister Heng Swee Keat', 'he', 'Mr Heng', 'He', 'Professor Ho'], ['Nanyang Technological University', 'NTU', 'Nanyang Technological University (NTU)', 'NTU', 'NTU', 'NTU', 'the university', \"Nanyang Technological University's\", 'NTU'], ['the National University of Singapore (NUS)', 'NUS', 'NUS', 'NUS'], ['Education Minister Chan Chun Sing', 'he'], ['The UOB Wee Cho Yaw Future Leaders Award, launched in 2015 to assist less privileged students studying at NTU and NUS,', 'the Wee Cho Yaw Future Leaders Award scholarship programme'], ['young people', 'them'], ['Chung Cheng High School', 'the school', 'the school’s', 'our', 'our', 'the school'], ['United Chinese Bank which his father Wee Kheng Chiang co-founded in 1935', 'It'], ['the board of United Chinese Bank which his father Wee Kheng Chiang co-founded in 1935', 'the board', 'its'], [\"Forbes'\", 'Forbes']]),\n",
       " CorefResult(text=\"SINGAPORE: Former UOB chairman and CEO Wee Cho Yaw...\", clusters=[['Prime Minister Lee Hsien Loong', 'he', 'Mr Lee', 'he', 'his', 'the Prime Minister', 'I', 'I', 'I', 'he', 'I', 'He', 'The Prime Minister', 'Prime Minister Lee Hsien Loong', 'The Prime Minister', 'Mr Lee', 'Mr Lee'], ['Former UOB chairman and CEO Wee Cho Yaw', 'the late businessman', 'Mr Wee', 'He', \"Mr Wee's\", 'his', 'His', 'Cho Yaw', 'him', 'his', 'his', \"Mr Wee's\", 'Mr Wee', \"Mr Wee's\", 'Mr Wee Cho Yaw', 'Mr Wee', 'the former banking tycoon', 'He', 'his', \"Mr Wee's\", 'former UOB chairman Wee Cho Yaw', 'Mr Wee’s', 'His', 'his', 'Mr Wee’s', 'his', 'Mr Wee', 'Mr Wee', 'Mr Wee', 'he', 'Mr Wee', 'his', 'Mr Wee', 'he', 'Mr Wee', 'he', \"Mr Wee's\", 'Mr Wee', 'Mr Wee', 'his', 'he', 'Mr Wee', 'the banker', 'him', 'him', 'his', 'Mr Wee Cho Yaw', 'Mr Wee', 'Mr Wee', 'his', 'he', 'Mr Wee', 'he', 'his', 'he', \"One of Singapore's wealthiest men\", 'the banking veteran', 'he', 'He', 'Mr Wee', 'His'], ['UOB', 'Singapore bank UOB', 'the bank', 'UOB', \"UOB's\", 'UOB', 'our', 'the bank', 'UOB', 'UOB', 'UOB', 'UOB)\\nDeputy Prime Minister Lawrence Wong said Mr Wee’s “transformative leadership” made UOB', 'UOB', 'our', 'UOB', 'UOB', 'UOB', 'UOB'], ['died', \"Mr Wee's death\"], [\"Singapore's\", 'Singapore', 'Singapore', \"Singapore's\", 'Singapore', 'Singapore', \"Singapore's\", \"Singapore's\", \"Singapore's\"], ['the Wee Foundation', 'It'], ['President Tharman Shanmugaratnam', 'Mr Tharman, a former Monetary Authority of Singapore (MAS) chairman,', 'the President', '\\n\\n\\nPresident Tharman Shanmugaratnam'], ['our financial centre', 'our financial centre'], ['Deputy Prime Minister Lawrence Wong', 'Mr Wong, who is also Finance Minister and the current MAS chairman', 'Mr Wong, who is also Finance Minister and the current MAS chairman.\\n\\nDeputy Prime Minister Heng Swee Keat'], ['Deputy Prime Minister Heng Swee Keat', 'he', 'Mr Heng', 'He', 'Professor Ho'], ['Nanyang Technological University', 'NTU', 'Nanyang Technological University (NTU)', 'NTU', 'NTU', 'NTU', 'the university', \"Nanyang Technological University's\", 'NTU'], ['the National University of Singapore (NUS)', 'NUS', 'NUS', 'NUS'], ['Education Minister Chan Chun Sing', 'he'], ['The UOB Wee Cho Yaw Future Leaders Award, launched in 2015 to assist less privileged students studying at NTU and NUS,', 'the Wee Cho Yaw Future Leaders Award scholarship programme'], ['young people', 'them'], ['Chung Cheng High School', 'the school', 'the school’s', 'our', 'our', 'the school'], ['United Chinese Bank which his father Wee Kheng Chiang co-founded in 1935', 'It'], ['the board of United Chinese Bank which his father Wee Kheng Chiang co-founded in 1935', 'the board', 'its'], [\"Forbes'\", 'Forbes']])]"
      ]
     },
     "execution_count": 10,
     "metadata": {},
     "output_type": "execute_result"
    }
   ],
   "source": [
    "from fastcoref import LingMessCoref\n",
    "\n",
    "model = LingMessCoref(device='cuda:0')"
   ]
  },
  {
   "cell_type": "code",
   "execution_count": 14,
   "metadata": {},
   "outputs": [
    {
     "name": "stderr",
     "output_type": "stream",
     "text": [
      "02/04/2024 21:52:36 - INFO - \t Tokenize 2 inputs...\n"
     ]
    },
    {
     "data": {
      "application/vnd.jupyter.widget-view+json": {
       "model_id": "4da74253c6554f61b9a3138e18dac440",
       "version_major": 2,
       "version_minor": 0
      },
      "text/plain": [
       "Map:   0%|          | 0/2 [00:00<?, ? examples/s]"
      ]
     },
     "metadata": {},
     "output_type": "display_data"
    },
    {
     "name": "stderr",
     "output_type": "stream",
     "text": [
      "02/04/2024 21:52:36 - INFO - \t ***** Running Inference on 2 texts *****\n"
     ]
    },
    {
     "data": {
      "application/vnd.jupyter.widget-view+json": {
       "model_id": "746fd633dc5d4016ba0658af33a906de",
       "version_major": 2,
       "version_minor": 0
      },
      "text/plain": [
       "Inference:   0%|          | 0/2 [00:00<?, ?it/s]"
      ]
     },
     "metadata": {},
     "output_type": "display_data"
    }
   ],
   "source": [
    "result = model.predict([text, text], max_tokens_in_batch=512)"
   ]
  },
  {
   "cell_type": "code",
   "execution_count": 26,
   "metadata": {},
   "outputs": [
    {
     "data": {
      "text/plain": [
       "[[(103, 133),\n",
       "  (156, 158),\n",
       "  (372, 378),\n",
       "  (384, 386),\n",
       "  (434, 437),\n",
       "  (618, 636),\n",
       "  (640, 641),\n",
       "  (695, 696),\n",
       "  (800, 801),\n",
       "  (876, 878),\n",
       "  (888, 889),\n",
       "  (1017, 1019),\n",
       "  (1464, 1482),\n",
       "  (1574, 1604),\n",
       "  (3640, 3658),\n",
       "  (3918, 3924),\n",
       "  (4265, 4271)],\n",
       " [(11, 50),\n",
       "  (179, 199),\n",
       "  (202, 208),\n",
       "  (274, 276),\n",
       "  (410, 418),\n",
       "  (453, 456),\n",
       "  (467, 470),\n",
       "  (653, 660),\n",
       "  (822, 825),\n",
       "  (846, 849),\n",
       "  (918, 921),\n",
       "  (1036, 1044),\n",
       "  (1203, 1209),\n",
       "  (1504, 1512),\n",
       "  (1554, 1568),\n",
       "  (1760, 1766),\n",
       "  (1862, 1887),\n",
       "  (2000, 2002),\n",
       "  (2025, 2028),\n",
       "  (2165, 2173),\n",
       "  (2372, 2403),\n",
       "  (2474, 2482),\n",
       "  (2553, 2556),\n",
       "  (2624, 2627),\n",
       "  (2879, 2887),\n",
       "  (2926, 2929),\n",
       "  (2968, 2974),\n",
       "  (3160, 3166),\n",
       "  (3387, 3393),\n",
       "  (3472, 3474),\n",
       "  (3609, 3615),\n",
       "  (3620, 3623),\n",
       "  (3664, 3670),\n",
       "  (3754, 3756),\n",
       "  (3932, 3938),\n",
       "  (3969, 3971),\n",
       "  (4226, 4234),\n",
       "  (4274, 4280),\n",
       "  (4429, 4435),\n",
       "  (4455, 4458),\n",
       "  (4555, 4557),\n",
       "  (4995, 5001),\n",
       "  (5083, 5093),\n",
       "  (5424, 5427),\n",
       "  (5437, 5440),\n",
       "  (5521, 5524),\n",
       "  (5555, 5569),\n",
       "  (5647, 5653),\n",
       "  (5768, 5774),\n",
       "  (5786, 5789),\n",
       "  (5981, 5983),\n",
       "  (6104, 6110),\n",
       "  (6188, 6190),\n",
       "  (6262, 6265),\n",
       "  (6393, 6395),\n",
       "  (6458, 6491),\n",
       "  (6493, 6512),\n",
       "  (6568, 6570),\n",
       "  (6673, 6675),\n",
       "  (6748, 6754),\n",
       "  (6774, 6777)],\n",
       " [(18, 21),\n",
       "  (232, 250),\n",
       "  (284, 292),\n",
       "  (541, 544),\n",
       "  (1608, 1613),\n",
       "  (2044, 2047),\n",
       "  (2098, 2101),\n",
       "  (2186, 2194),\n",
       "  (2268, 2271),\n",
       "  (2379, 2382),\n",
       "  (2428, 2431),\n",
       "  (2428, 2519),\n",
       "  (2516, 2519),\n",
       "  (2645, 2648),\n",
       "  (4085, 4088),\n",
       "  (4790, 4793),\n",
       "  (5128, 5131),\n",
       "  (6847, 6850)],\n",
       " [(209, 213), (410, 424)],\n",
       " [(67, 78),\n",
       "  (586, 595),\n",
       "  (1382, 1391),\n",
       "  (2275, 2286),\n",
       "  (4946, 4955),\n",
       "  (6120, 6129),\n",
       "  (6465, 6476),\n",
       "  (6604, 6615),\n",
       "  (6680, 6691)],\n",
       " [(1293, 1311), (1313, 1315)],\n",
       " [(1717, 1749), (1788, 1856), (2121, 2134), (2321, 2356)],\n",
       " [(2098, 2118), (2645, 2665)],\n",
       " [(2433, 2468), (2707, 2773), (2707, 2812)],\n",
       " [(2776, 2812), (2843, 2845), (3265, 3272), (5075, 5077), (5539, 5551)],\n",
       " [(3296, 3328),\n",
       "  (3353, 3356),\n",
       "  (3511, 3549),\n",
       "  (3964, 3967),\n",
       "  (4187, 4190),\n",
       "  (4959, 4962),\n",
       "  (5179, 5193),\n",
       "  (5574, 5608),\n",
       "  (5642, 5645)],\n",
       " [(3419, 3461), (3858, 3861), (3889, 3892), (4195, 4198)],\n",
       " [(4392, 4425), (4508, 4510)],\n",
       " [(4081, 4199), (4728, 4786)],\n",
       " [(5494, 5506), (5516, 5520)],\n",
       " [(5707, 5730),\n",
       "  (5752, 5762),\n",
       "  (5885, 5897),\n",
       "  (5967, 5970),\n",
       "  (6050, 6053),\n",
       "  (6067, 6077)],\n",
       " [(6236, 6308), (6310, 6312)],\n",
       " [(6223, 6308), (6374, 6383), (6413, 6416)],\n",
       " [(6538, 6545), (6589, 6595)]]"
      ]
     },
     "execution_count": 26,
     "metadata": {},
     "output_type": "execute_result"
    }
   ],
   "source": [
    "result[0].get_clusters(as_strings=False)"
   ]
  },
  {
   "cell_type": "code",
   "execution_count": 17,
   "metadata": {},
   "outputs": [],
   "source": [
    "import os\n",
    "os.environ.get('TRANSFORMERS_CACHE')"
   ]
  },
  {
   "cell_type": "code",
   "execution_count": 19,
   "metadata": {},
   "outputs": [
    {
     "data": {
      "application/vnd.jupyter.widget-view+json": {
       "model_id": "a2df98d0b40e4646956a8b9ff4d3092c",
       "version_major": 2,
       "version_minor": 0
      },
      "text/plain": [
       "Downloading config.json:   0%|          | 0.00/615 [00:00<?, ?B/s]"
      ]
     },
     "metadata": {},
     "output_type": "display_data"
    },
    {
     "data": {
      "application/vnd.jupyter.widget-view+json": {
       "model_id": "693f52f188874ce58f4a08b080b91a7f",
       "version_major": 2,
       "version_minor": 0
      },
      "text/plain": [
       "Downloading (…)tencepiece.bpe.model:   0%|          | 0.00/5.07M [00:00<?, ?B/s]"
      ]
     },
     "metadata": {},
     "output_type": "display_data"
    },
    {
     "data": {
      "application/vnd.jupyter.widget-view+json": {
       "model_id": "318c17b0d0a44c2ebcb923f741bd3547",
       "version_major": 2,
       "version_minor": 0
      },
      "text/plain": [
       "Downloading tokenizer.json:   0%|          | 0.00/9.10M [00:00<?, ?B/s]"
      ]
     },
     "metadata": {},
     "output_type": "display_data"
    }
   ],
   "source": [
    "from transformers import AutoTokenizer\n",
    "\n",
    "tokenizer = AutoTokenizer.from_pretrained('xlm-roberta-base', cache_dir='.')"
   ]
  },
  {
   "cell_type": "code",
   "execution_count": 21,
   "metadata": {},
   "outputs": [],
   "source": [
    "filelist = tokenizer.save_pretrained('/home/cheong/Desktop/Work/torch-serve-example/notebooks/xlm-roberta-base')"
   ]
  },
  {
   "cell_type": "code",
   "execution_count": 25,
   "metadata": {},
   "outputs": [],
   "source": [
    "with open('filelist', 'w') as f:\n",
    "    f.write(','.join(filelist))"
   ]
  }
 ],
 "metadata": {
  "kernelspec": {
   "display_name": "nlp",
   "language": "python",
   "name": "python3"
  },
  "language_info": {
   "codemirror_mode": {
    "name": "ipython",
    "version": 3
   },
   "file_extension": ".py",
   "mimetype": "text/x-python",
   "name": "python",
   "nbconvert_exporter": "python",
   "pygments_lexer": "ipython3",
   "version": "3.11.5"
  }
 },
 "nbformat": 4,
 "nbformat_minor": 2
}
